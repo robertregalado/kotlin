{
 "cells": [
  {
   "cell_type": "code",
   "execution_count": 3,
   "id": "d27971bd",
   "metadata": {},
   "outputs": [],
   "source": [
    "println(\"Hello, World!\")"
   ]
  },
  {
   "cell_type": "code",
   "execution_count": 4,
   "id": "a6647f17",
   "metadata": {},
   "outputs": [],
   "source": [
    "// Define a function to add two numbers\n",
    "fun add(a: Int, b: Int): Int {\n",
    "    return a + b\n",
    "}\n",
    "\n",
    "// Call the function and print the result\n",
    "val result = add(10, 5)\n",
    "println(\"10 + 5 = $result\")\n"
   ]
  },
  {
   "cell_type": "code",
   "execution_count": null,
   "id": "970ee472",
   "metadata": {},
   "outputs": [],
   "source": []
  }
 ],
 "metadata": {
  "kernelspec": {
   "display_name": "Kotlin",
   "language": "kotlin",
   "name": "kotlin"
  },
  "language_info": {
   "codemirror_mode": "text/x-kotlin",
   "file_extension": ".kt",
   "mimetype": "text/x-kotlin",
   "name": "kotlin",
   "nbconvert_exporter": "",
   "pygments_lexer": "kotlin",
   "version": "1.9.23"
  }
 },
 "nbformat": 4,
 "nbformat_minor": 5
}
